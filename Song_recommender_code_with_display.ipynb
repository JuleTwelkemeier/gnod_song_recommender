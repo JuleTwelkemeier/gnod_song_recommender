{
 "cells": [
  {
   "cell_type": "markdown",
   "id": "2ec9a46f",
   "metadata": {},
   "source": [
    "# Hot Music Recommender"
   ]
  },
  {
   "cell_type": "code",
   "execution_count": 2,
   "id": "268777e5",
   "metadata": {},
   "outputs": [],
   "source": [
    "#libraries\n",
    "from bs4 import BeautifulSoup\n",
    "import requests\n",
    "import pandas as pd\n",
    "import difflib #for typo control\n",
    "import config # this are the spotify credentials for the song_recommender api\n",
    "import spotipy\n",
    "import json\n",
    "from spotipy.oauth2 import SpotifyClientCredentials\n",
    "from time import sleep\n",
    "from random import randint\n",
    "import re #for getting rid of featured artist\n",
    "import numpy as np\n",
    "from sklearn import datasets # sklearn comes with some toy datasets to practise\n",
    "from sklearn.preprocessing import StandardScaler\n",
    "from sklearn.cluster import KMeans\n",
    "from sklearn.metrics import silhouette_score\n",
    "import matplotlib.pyplot as plt\n",
    "%matplotlib inline\n",
    "import pickle\n",
    "import warnings\n",
    "\n"
   ]
  },
  {
   "cell_type": "markdown",
   "id": "d43abbac",
   "metadata": {},
   "source": [
    "## Protype 1 - Reccommend song from scraped lists"
   ]
  },
  {
   "cell_type": "markdown",
   "id": "383e580f",
   "metadata": {},
   "source": [
    "### Retrieving music information from \"The Hot 100 Chart - Billboard\" \n",
    "weekly updated and will be scraped everytime a request is sent."
   ]
  },
  {
   "cell_type": "code",
   "execution_count": 32,
   "id": "ac69221d",
   "metadata": {},
   "outputs": [],
   "source": [
    "url = \"https://www.billboard.com/charts/hot-100\"\n",
    "response = requests.get(url)\n",
    "soup = BeautifulSoup(response.content, \"html.parser\")\n",
    "    # song_title\n",
    "song_title = []\n",
    "for i in soup.find_all(\"span\", {\"class\":\"chart-element__information__song\"}):\n",
    "    song_title.append(i.text)\n",
    "    \n",
    "    #artist\n",
    "song_artist = []\n",
    "for i in soup.find_all(\"span\", {\"class\":\"chart-element__information__artist\"}):\n",
    "    song_artist.append(i.text)\n",
    "    \n",
    "#creating df from lists\n",
    "Top100 = pd.DataFrame(list(zip(song_title, song_artist)),columns =['Title','Artist'],index=pd.RangeIndex(start=1, stop=101))\n",
    "   \n",
    "#Top100"
   ]
  },
  {
   "cell_type": "markdown",
   "id": "41983bbe",
   "metadata": {},
   "source": [
    "### Loading music information from \"DECADE-END CHARTS HOT 100 SONGS\" and \"Top \"1000 Classic Rock Songs\"\n",
    "\n",
    "no update needed, therefore scraped once and saved as a csv"
   ]
  },
  {
   "cell_type": "code",
   "execution_count": 33,
   "id": "c08f90fc",
   "metadata": {},
   "outputs": [],
   "source": [
    "#Loading csv to use for the product and ensure that the index starts at 1\n",
    "Top100Decade =pd.read_csv(\"data/Top100Decaden.csv\")\n",
    "Top100Decade.index=pd.RangeIndex(start=1, stop=101)\n",
    "#Top100Decade"
   ]
  },
  {
   "cell_type": "code",
   "execution_count": 34,
   "id": "aa9d84de",
   "metadata": {},
   "outputs": [],
   "source": [
    "### Loading music information from \"1,000 Classic Rock Songs\"<a class=\"anchor\" id=\"3\"></a>\n",
    "Top1000Rock =pd.read_csv(\"data/Top1000Rock.csv\")\n",
    "Top1000Rock.index=pd.RangeIndex(start=1, stop=1001)\n",
    "#Top1000Rock"
   ]
  },
  {
   "cell_type": "markdown",
   "id": "c6669842",
   "metadata": {},
   "source": [
    "### Merging databases to have the option to search in all lists\n",
    "not yet integrated in product"
   ]
  },
  {
   "cell_type": "code",
   "execution_count": 35,
   "id": "f8533f4a",
   "metadata": {},
   "outputs": [],
   "source": [
    "#drop peak from Top100Decade to have the same columns\n",
    "Top100Decade_new = Top100Decade.drop(['Peak'], axis=1)\n",
    "\n",
    "#merge all dataframes together\n",
    "hot_songs = pd.concat([Top100, Top100Decade_new, Top1000Rock])"
   ]
  },
  {
   "cell_type": "markdown",
   "id": "bc22ec5b",
   "metadata": {},
   "source": [
    "-----"
   ]
  },
  {
   "cell_type": "markdown",
   "id": "c2550513",
   "metadata": {},
   "source": [
    "------"
   ]
  },
  {
   "cell_type": "code",
   "execution_count": 36,
   "id": "c0b83648",
   "metadata": {},
   "outputs": [],
   "source": [
    "#Initialize SpotiPy with user credentias\n",
    "sp = spotipy.Spotify(auth_manager=SpotifyClientCredentials(client_id= config.client_id,\n",
    "                                                           client_secret= config.client_secret))\n"
   ]
  },
  {
   "cell_type": "code",
   "execution_count": 37,
   "id": "ab66f4dc",
   "metadata": {},
   "outputs": [],
   "source": [
    "# function to retrieve track ids from playlists (without limit of 50 with .ectend)\n",
    "def get_playlist_ids(username,playlist_id):\n",
    "    r = sp.user_playlist_tracks(username,playlist_id)\n",
    "    t = r['items']\n",
    "    ids = []\n",
    "    while r['next']:\n",
    "        r = sp.next(r)\n",
    "        t.extend(r['items'])\n",
    "    for s in t: ids.append(s[\"track\"][\"id\"])\n",
    "    return ids"
   ]
  },
  {
   "cell_type": "code",
   "execution_count": 38,
   "id": "f546ea0f",
   "metadata": {},
   "outputs": [],
   "source": [
    "#retrieving ids from spotifys 'biggest playlist'\n",
    "#ids =get_playlist_ids('spotify','4rnleEAOdmFAbRcNCgZMpY')\n"
   ]
  },
  {
   "cell_type": "code",
   "execution_count": 39,
   "id": "6a6cc2d9",
   "metadata": {},
   "outputs": [],
   "source": [
    "#get all features for playlists songs\n",
    "#df_playlist1 = pd.DataFrame(columns = sp.audio_features(res[0])[0].keys())\n",
    "\n",
    "#for uri in ids:\n",
    "    #my_dict_2 = sp.audio_features(uri)\n",
    "    #df_playlist1 = df_playlist1.append(my_dict_2[0],ignore_index = True)"
   ]
  },
  {
   "cell_type": "code",
   "execution_count": 40,
   "id": "818dbbf5",
   "metadata": {},
   "outputs": [],
   "source": [
    "# save the playlist to a csv file\n",
    "# df_playlist1.to_csv(\"biggest_playlist.csv\", index = False)"
   ]
  },
  {
   "cell_type": "markdown",
   "id": "77c9dbe1",
   "metadata": {},
   "source": [
    "------"
   ]
  },
  {
   "cell_type": "code",
   "execution_count": 41,
   "id": "cb59a29b",
   "metadata": {},
   "outputs": [],
   "source": [
    "# rafaats uri_track list\n",
    "track_r =pd.read_csv(\"data/tracks_uris.csv\")\n",
    "\n",
    "tracks_r = track_r['uri'].tolist()\n"
   ]
  },
  {
   "cell_type": "code",
   "execution_count": 42,
   "id": "f6a74a0a",
   "metadata": {},
   "outputs": [],
   "source": [
    "#get all features for songs\n",
    "#df_2 = pd.DataFrame(columns = sp.audio_features(res[0])[0].keys())\n",
    "\n",
    "#for uri in tracks_r:\n",
    "#    dict_3 = sp.audio_features(uri)\n",
    "#    df_2 = df_2.append(dict_3[0],ignore_index = True)\n",
    "#    wait_time = randint(1,1)\n",
    "#    #print(\"I will sleep for \" + str(wait_time) + \" second/s.\")\n",
    "#    sleep(wait_time)"
   ]
  },
  {
   "cell_type": "code",
   "execution_count": 43,
   "id": "801f1722",
   "metadata": {},
   "outputs": [],
   "source": [
    "# save the playlist to a csv file\n",
    "# df_2.to_csv(\"data/biggest_track_list.csv\", index = False)"
   ]
  },
  {
   "cell_type": "markdown",
   "id": "aeb21787",
   "metadata": {},
   "source": [
    "--------"
   ]
  },
  {
   "cell_type": "code",
   "execution_count": 44,
   "id": "976832b8",
   "metadata": {},
   "outputs": [],
   "source": [
    "#df can be extended with other playlists\n",
    "#for example:\n",
    "#get categories from spotify\n",
    "cats = [cat['id'] for cat in sp.categories()['categories']['items']]\n",
    "#cats\n",
    "\n",
    "toplists =sp.category_playlists('toplists')\n",
    "toplists['playlists']['items'][0]['uri'] # gets the playlist id\n",
    "#toplists\n",
    "\n",
    "#getting all the playlist_ids from toplists\n",
    "toplists_playlists =[]\n",
    "for uri in toplists['playlists']['items'][:50]:\n",
    "    uri = uri['uri']\n",
    "    toplists_playlists.append(uri)\n",
    "    \n",
    "toplists_playlists=  [s.replace(\"spotify:playlist:\", \"\") for s in toplists_playlists]\n",
    "#toplists_playlists\n",
    "\n",
    "#--> the code above could be used to get tracks from these playlists"
   ]
  },
  {
   "cell_type": "markdown",
   "id": "0b2786ee",
   "metadata": {},
   "source": [
    "### Loading all retrieved df audio features in one df"
   ]
  },
  {
   "cell_type": "code",
   "execution_count": 4,
   "id": "243a2c3d",
   "metadata": {},
   "outputs": [
    {
     "data": {
      "text/plain": [
       "(15621, 18)"
      ]
     },
     "execution_count": 4,
     "metadata": {},
     "output_type": "execute_result"
    }
   ],
   "source": [
    "#loading dfs (the code above shouldn't be run each time but rather the saved file from it will be loaded)\n",
    "df = pd.read_csv(\"data/biggest_playlist.csv\")\n",
    "df1 = pd.read_csv('data/biggest_track_list.csv')\n",
    "#can be extended with other dfs\n",
    "\n",
    "\n",
    "# combinging all dfs to one final df\n",
    "spotify_audio_features = pd.concat([df, df1],ignore_index=True)\n",
    "spotify_audio_features.shape"
   ]
  },
  {
   "cell_type": "code",
   "execution_count": 46,
   "id": "5a0d7181",
   "metadata": {},
   "outputs": [],
   "source": [
    "#drop duplicates\n",
    "spotify_audio_features = spotify_audio_features.drop_duplicates(subset=None, keep='first', inplace=False, ignore_index=False)\n",
    "#spotify_audio_features.shape\n"
   ]
  },
  {
   "cell_type": "markdown",
   "id": "a3df94cc",
   "metadata": {},
   "source": [
    "------"
   ]
  },
  {
   "cell_type": "markdown",
   "id": "e58651c9",
   "metadata": {},
   "source": [
    "### Clustering the df with the kmean method"
   ]
  },
  {
   "cell_type": "code",
   "execution_count": 47,
   "id": "b6a6ae8a",
   "metadata": {},
   "outputs": [],
   "source": [
    "#getting just the numerical features for scaling\n",
    "X = spotify_audio_features.select_dtypes(include=np.number)\n",
    "##add at the end the categorial features"
   ]
  },
  {
   "cell_type": "code",
   "execution_count": 48,
   "id": "6c065d0a",
   "metadata": {},
   "outputs": [],
   "source": [
    "#X.describe()"
   ]
  },
  {
   "cell_type": "code",
   "execution_count": 49,
   "id": "07eb45f1",
   "metadata": {},
   "outputs": [
    {
     "data": {
      "text/html": [
       "<div>\n",
       "<style scoped>\n",
       "    .dataframe tbody tr th:only-of-type {\n",
       "        vertical-align: middle;\n",
       "    }\n",
       "\n",
       "    .dataframe tbody tr th {\n",
       "        vertical-align: top;\n",
       "    }\n",
       "\n",
       "    .dataframe thead th {\n",
       "        text-align: right;\n",
       "    }\n",
       "</style>\n",
       "<table border=\"1\" class=\"dataframe\">\n",
       "  <thead>\n",
       "    <tr style=\"text-align: right;\">\n",
       "      <th></th>\n",
       "      <th>danceability</th>\n",
       "      <th>energy</th>\n",
       "      <th>key</th>\n",
       "      <th>loudness</th>\n",
       "      <th>mode</th>\n",
       "      <th>speechiness</th>\n",
       "      <th>acousticness</th>\n",
       "      <th>instrumentalness</th>\n",
       "      <th>liveness</th>\n",
       "      <th>valence</th>\n",
       "      <th>tempo</th>\n",
       "      <th>duration_ms</th>\n",
       "      <th>time_signature</th>\n",
       "    </tr>\n",
       "  </thead>\n",
       "  <tbody>\n",
       "    <tr>\n",
       "      <th>0</th>\n",
       "      <td>0.566</td>\n",
       "      <td>0.664</td>\n",
       "      <td>4</td>\n",
       "      <td>-5.303</td>\n",
       "      <td>0</td>\n",
       "      <td>0.0464</td>\n",
       "      <td>0.634</td>\n",
       "      <td>0.0</td>\n",
       "      <td>0.116</td>\n",
       "      <td>0.437</td>\n",
       "      <td>128.945</td>\n",
       "      <td>241688</td>\n",
       "      <td>4</td>\n",
       "    </tr>\n",
       "    <tr>\n",
       "      <th>1</th>\n",
       "      <td>0.768</td>\n",
       "      <td>0.820</td>\n",
       "      <td>7</td>\n",
       "      <td>-4.630</td>\n",
       "      <td>0</td>\n",
       "      <td>0.0474</td>\n",
       "      <td>0.179</td>\n",
       "      <td>0.0</td>\n",
       "      <td>0.689</td>\n",
       "      <td>0.625</td>\n",
       "      <td>129.965</td>\n",
       "      <td>213293</td>\n",
       "      <td>4</td>\n",
       "    </tr>\n",
       "  </tbody>\n",
       "</table>\n",
       "</div>"
      ],
      "text/plain": [
       "   danceability  energy  key  loudness  mode  speechiness  acousticness  \\\n",
       "0         0.566   0.664    4    -5.303     0       0.0464         0.634   \n",
       "1         0.768   0.820    7    -4.630     0       0.0474         0.179   \n",
       "\n",
       "   instrumentalness  liveness  valence    tempo  duration_ms  time_signature  \n",
       "0               0.0     0.116    0.437  128.945       241688               4  \n",
       "1               0.0     0.689    0.625  129.965       213293               4  "
      ]
     },
     "metadata": {},
     "output_type": "display_data"
    },
    {
     "data": {
      "text/html": [
       "<div>\n",
       "<style scoped>\n",
       "    .dataframe tbody tr th:only-of-type {\n",
       "        vertical-align: middle;\n",
       "    }\n",
       "\n",
       "    .dataframe tbody tr th {\n",
       "        vertical-align: top;\n",
       "    }\n",
       "\n",
       "    .dataframe thead th {\n",
       "        text-align: right;\n",
       "    }\n",
       "</style>\n",
       "<table border=\"1\" class=\"dataframe\">\n",
       "  <thead>\n",
       "    <tr style=\"text-align: right;\">\n",
       "      <th></th>\n",
       "      <th>danceability</th>\n",
       "      <th>energy</th>\n",
       "      <th>key</th>\n",
       "      <th>loudness</th>\n",
       "      <th>mode</th>\n",
       "      <th>speechiness</th>\n",
       "      <th>acousticness</th>\n",
       "      <th>instrumentalness</th>\n",
       "      <th>liveness</th>\n",
       "      <th>valence</th>\n",
       "      <th>tempo</th>\n",
       "      <th>duration_ms</th>\n",
       "      <th>time_signature</th>\n",
       "    </tr>\n",
       "  </thead>\n",
       "  <tbody>\n",
       "    <tr>\n",
       "      <th>0</th>\n",
       "      <td>-0.120361</td>\n",
       "      <td>-0.109797</td>\n",
       "      <td>-0.354500</td>\n",
       "      <td>0.388779</td>\n",
       "      <td>-1.25584</td>\n",
       "      <td>-0.525739</td>\n",
       "      <td>1.609740</td>\n",
       "      <td>-0.427602</td>\n",
       "      <td>-0.493842</td>\n",
       "      <td>-0.176487</td>\n",
       "      <td>0.234610</td>\n",
       "      <td>0.040565</td>\n",
       "      <td>0.173268</td>\n",
       "    </tr>\n",
       "    <tr>\n",
       "      <th>1</th>\n",
       "      <td>0.985614</td>\n",
       "      <td>0.599631</td>\n",
       "      <td>0.479688</td>\n",
       "      <td>0.537706</td>\n",
       "      <td>-1.25584</td>\n",
       "      <td>-0.515327</td>\n",
       "      <td>-0.063565</td>\n",
       "      <td>-0.427602</td>\n",
       "      <td>3.154594</td>\n",
       "      <td>0.587833</td>\n",
       "      <td>0.269851</td>\n",
       "      <td>-0.233615</td>\n",
       "      <td>0.173268</td>\n",
       "    </tr>\n",
       "  </tbody>\n",
       "</table>\n",
       "</div>"
      ],
      "text/plain": [
       "   danceability    energy       key  loudness     mode  speechiness  \\\n",
       "0     -0.120361 -0.109797 -0.354500  0.388779 -1.25584    -0.525739   \n",
       "1      0.985614  0.599631  0.479688  0.537706 -1.25584    -0.515327   \n",
       "\n",
       "   acousticness  instrumentalness  liveness   valence     tempo  duration_ms  \\\n",
       "0      1.609740         -0.427602 -0.493842 -0.176487  0.234610     0.040565   \n",
       "1     -0.063565         -0.427602  3.154594  0.587833  0.269851    -0.233615   \n",
       "\n",
       "   time_signature  \n",
       "0        0.173268  \n",
       "1        0.173268  "
      ]
     },
     "metadata": {},
     "output_type": "display_data"
    }
   ],
   "source": [
    "#K-Means is a distance based algorithm*: it needs to be scaled / normalized\n",
    "scaler = StandardScaler()\n",
    "scaler.fit(X) #z score \n",
    "X_scaled = scaler.transform(X) #gives an array\n",
    "X_scaled_df = pd.DataFrame(X_scaled, columns = X.columns) #transform it to a df\n",
    "display(X.head(2))\n",
    "#print()\n",
    "display(X_scaled_df.head(2))"
   ]
  },
  {
   "cell_type": "code",
   "execution_count": 51,
   "id": "1c994180",
   "metadata": {},
   "outputs": [],
   "source": [
    "#X_scaled_df.describe()"
   ]
  },
  {
   "cell_type": "markdown",
   "id": "06e9a1be",
   "metadata": {},
   "source": [
    "### Chosing the best cluster number (K)"
   ]
  },
  {
   "cell_type": "code",
   "execution_count": 50,
   "id": "5c1e90d8",
   "metadata": {},
   "outputs": [
    {
     "data": {
      "text/plain": [
       "Text(0.5, 1.0, 'Elbow Method showing the optimal k')"
      ]
     },
     "execution_count": 50,
     "metadata": {},
     "output_type": "execute_result"
    },
    {
     "data": {
      "image/png": "[encoded data removed]",
      "text/plain": [
       "<Figure size 1152x576 with 1 Axes>"
      ]
     },
     "metadata": {
      "needs_background": "light"
     },
     "output_type": "display_data"
    }
   ],
   "source": [
    "#Elbow-method\n",
    "\n",
    "K = range(2, 21) # trying modul with different cluster amount\n",
    "inertia = []\n",
    "\n",
    "for k in K:\n",
    "    #print(\"Training a K-Means model with {} neighbours! \".format(k))\n",
    "    kmeans = KMeans(n_clusters=k,\n",
    "                    random_state=1234)\n",
    "    kmeans.fit(X_scaled_df)\n",
    "    inertia.append(kmeans.inertia_)\n",
    "\n",
    "\n",
    "plt.figure(figsize=(16,8))\n",
    "plt.plot(K, inertia, 'bx-')\n",
    "plt.xlabel('k')\n",
    "plt.ylabel('inertia')\n",
    "plt.xticks(np.arange(min(K), max(K)+1, 1.0)) \n",
    "plt.title('Elbow Method showing the optimal k')"
   ]
  },
  {
   "cell_type": "markdown",
   "id": "180d6e93",
   "metadata": {},
   "source": [
    "There seems to be an elbow at **k=10**"
   ]
  },
  {
   "cell_type": "code",
   "execution_count": 53,
   "id": "d252f7ff",
   "metadata": {},
   "outputs": [
    {
     "data": {
      "text/plain": [
       "Text(0.5, 1.0, 'Silhouette Method showing the optimal k')"
      ]
     },
     "execution_count": 53,
     "metadata": {},
     "output_type": "execute_result"
    },
    {
     "data": {
      "image/png": "[encoded data removed]",
      "text/plain": [
       "<Figure size 1152x576 with 1 Axes>"
      ]
     },
     "metadata": {
      "needs_background": "light"
     },
     "output_type": "display_data"
    }
   ],
   "source": [
    "#Silouhette method\n",
    "K = range(2, 20)\n",
    "silhouette = []\n",
    "\n",
    "for k in K:\n",
    "    kmeans = KMeans(n_clusters=k,\n",
    "                    random_state=1234)\n",
    "    kmeans.fit(X_scaled_df)\n",
    "    filename = \"pickle/kmeans_\" + str(k) + \".pickle\"\n",
    "    with open(filename, \"wb\") as f:\n",
    "        pickle.dump(kmeans,f)\n",
    "    silhouette.append(silhouette_score(X_scaled_df, kmeans.predict(X_scaled_df)))\n",
    "\n",
    "\n",
    "plt.figure(figsize=(16,8))\n",
    "plt.plot(K, silhouette, 'bx-')\n",
    "plt.xlabel('k')\n",
    "plt.ylabel('silhouette score')\n",
    "plt.xticks(np.arange(min(K), max(K)+1, 1.0))\n",
    "plt.title('Silhouette Method showing the optimal k')"
   ]
  },
  {
   "cell_type": "markdown",
   "id": "cf6452d8",
   "metadata": {},
   "source": [
    "**K=10** still seems to be the best option and also seems like a good number of music genres"
   ]
  },
  {
   "cell_type": "code",
   "execution_count": 54,
   "id": "5cceb522",
   "metadata": {},
   "outputs": [],
   "source": [
    "#saving standardScaler\n",
    "with open(\"pickle/scaler.pickle\", \"wb\") as f:\n",
    "    pickle.dump(scaler,f)"
   ]
  },
  {
   "cell_type": "code",
   "execution_count": 53,
   "id": "3cbdc824",
   "metadata": {},
   "outputs": [],
   "source": [
    "#function to load pickles\n",
    "def load(filename = \"filename.pickle\"): \n",
    "    try: \n",
    "        with open(filename, \"rb\") as f: \n",
    "            return pickle.load(f) \n",
    "    except FileNotFoundError: \n",
    "        print(\"File not found!\") "
   ]
  },
  {
   "cell_type": "code",
   "execution_count": 58,
   "id": "e49c812f",
   "metadata": {},
   "outputs": [
    {
     "data": {
      "text/plain": [
       "KMeans(n_clusters=10, random_state=1234)"
      ]
     },
     "execution_count": 58,
     "metadata": {},
     "output_type": "execute_result"
    }
   ],
   "source": [
    "scaler2 = load(\"pickle/scaler.pickle\")\n",
    "scaler2\n",
    "\n",
    "n_clusters = load(\"pickle/kmeans_10.pickle\")\n",
    "n_clusters"
   ]
  },
  {
   "cell_type": "markdown",
   "id": "b94ae9a3",
   "metadata": {},
   "source": [
    "### Clustering the spotify-audio-features with K-Means and K=10"
   ]
  },
  {
   "cell_type": "code",
   "execution_count": 59,
   "id": "524a5eec",
   "metadata": {},
   "outputs": [
    {
     "data": {
      "text/plain": [
       "KMeans(n_clusters=10, random_state=1234)"
      ]
     },
     "execution_count": 59,
     "metadata": {},
     "output_type": "execute_result"
    }
   ],
   "source": [
    "kmeans = n_clusters #random_state = to get the same results like seed\n",
    "kmeans.fit(X_scaled_df)"
   ]
  },
  {
   "cell_type": "code",
   "execution_count": 60,
   "id": "6f1303da",
   "metadata": {},
   "outputs": [
    {
     "data": {
      "text/plain": [
       "0    1392\n",
       "1    3237\n",
       "2     793\n",
       "3    3766\n",
       "4     729\n",
       "5      51\n",
       "6      92\n",
       "7    1124\n",
       "8    1515\n",
       "9    2336\n",
       "dtype: int64"
      ]
     },
     "execution_count": 60,
     "metadata": {},
     "output_type": "execute_result"
    }
   ],
   "source": [
    "#clustering the songs \n",
    "clusters = kmeans.predict(X_scaled_df) # tell how many observations are in each cluster\n",
    "#clusters\n",
    "pd.Series(clusters).value_counts().sort_index()"
   ]
  },
  {
   "cell_type": "code",
   "execution_count": 61,
   "id": "3b8900a2",
   "metadata": {},
   "outputs": [],
   "source": [
    "##adding the categorial features again to the df\n",
    "X_categorical = spotify_audio_features.select_dtypes(include=np.object)\n",
    "X_final = pd.concat([X, X_categorical],axis =1)\n"
   ]
  },
  {
   "cell_type": "code",
   "execution_count": 63,
   "id": "4f126f33",
   "metadata": {},
   "outputs": [
    {
     "data": {
      "text/html": [
       "<div>\n",
       "<style scoped>\n",
       "    .dataframe tbody tr th:only-of-type {\n",
       "        vertical-align: middle;\n",
       "    }\n",
       "\n",
       "    .dataframe tbody tr th {\n",
       "        vertical-align: top;\n",
       "    }\n",
       "\n",
       "    .dataframe thead th {\n",
       "        text-align: right;\n",
       "    }\n",
       "</style>\n",
       "<table border=\"1\" class=\"dataframe\">\n",
       "  <thead>\n",
       "    <tr style=\"text-align: right;\">\n",
       "      <th></th>\n",
       "      <th>danceability</th>\n",
       "      <th>energy</th>\n",
       "      <th>key</th>\n",
       "      <th>loudness</th>\n",
       "      <th>mode</th>\n",
       "      <th>speechiness</th>\n",
       "      <th>acousticness</th>\n",
       "      <th>instrumentalness</th>\n",
       "      <th>liveness</th>\n",
       "      <th>valence</th>\n",
       "      <th>tempo</th>\n",
       "      <th>duration_ms</th>\n",
       "      <th>time_signature</th>\n",
       "      <th>type</th>\n",
       "      <th>id</th>\n",
       "      <th>uri</th>\n",
       "      <th>track_href</th>\n",
       "      <th>analysis_url</th>\n",
       "      <th>cluster</th>\n",
       "    </tr>\n",
       "  </thead>\n",
       "  <tbody>\n",
       "    <tr>\n",
       "      <th>0</th>\n",
       "      <td>0.566</td>\n",
       "      <td>0.664</td>\n",
       "      <td>4</td>\n",
       "      <td>-5.303</td>\n",
       "      <td>0</td>\n",
       "      <td>0.0464</td>\n",
       "      <td>0.634</td>\n",
       "      <td>0.000000</td>\n",
       "      <td>0.116</td>\n",
       "      <td>0.437</td>\n",
       "      <td>128.945</td>\n",
       "      <td>241688</td>\n",
       "      <td>4</td>\n",
       "      <td>audio_features</td>\n",
       "      <td>7dS5EaCoMnN7DzlpT6aRn2</td>\n",
       "      <td>spotify:track:7dS5EaCoMnN7DzlpT6aRn2</td>\n",
       "      <td>https://api.spotify.com/v1/tracks/7dS5EaCoMnN7...</td>\n",
       "      <td>https://api.spotify.com/v1/audio-analysis/7dS5...</td>\n",
       "      <td>8</td>\n",
       "    </tr>\n",
       "    <tr>\n",
       "      <th>1</th>\n",
       "      <td>0.768</td>\n",
       "      <td>0.820</td>\n",
       "      <td>7</td>\n",
       "      <td>-4.630</td>\n",
       "      <td>0</td>\n",
       "      <td>0.0474</td>\n",
       "      <td>0.179</td>\n",
       "      <td>0.000000</td>\n",
       "      <td>0.689</td>\n",
       "      <td>0.625</td>\n",
       "      <td>129.965</td>\n",
       "      <td>213293</td>\n",
       "      <td>4</td>\n",
       "      <td>audio_features</td>\n",
       "      <td>2V4bv1fNWfTcyRJKmej6Sj</td>\n",
       "      <td>spotify:track:2V4bv1fNWfTcyRJKmej6Sj</td>\n",
       "      <td>https://api.spotify.com/v1/tracks/2V4bv1fNWfTc...</td>\n",
       "      <td>https://api.spotify.com/v1/audio-analysis/2V4b...</td>\n",
       "      <td>2</td>\n",
       "    </tr>\n",
       "    <tr>\n",
       "      <th>2</th>\n",
       "      <td>0.558</td>\n",
       "      <td>0.559</td>\n",
       "      <td>6</td>\n",
       "      <td>-9.222</td>\n",
       "      <td>1</td>\n",
       "      <td>0.0959</td>\n",
       "      <td>0.371</td>\n",
       "      <td>0.000007</td>\n",
       "      <td>0.109</td>\n",
       "      <td>0.620</td>\n",
       "      <td>78.558</td>\n",
       "      <td>180387</td>\n",
       "      <td>4</td>\n",
       "      <td>audio_features</td>\n",
       "      <td>7KA4W4McWYRpgf0fWsJZWB</td>\n",
       "      <td>spotify:track:7KA4W4McWYRpgf0fWsJZWB</td>\n",
       "      <td>https://api.spotify.com/v1/tracks/7KA4W4McWYRp...</td>\n",
       "      <td>https://api.spotify.com/v1/audio-analysis/7KA4...</td>\n",
       "      <td>3</td>\n",
       "    </tr>\n",
       "  </tbody>\n",
       "</table>\n",
       "</div>"
      ],
      "text/plain": [
       "   danceability  energy  key  loudness  mode  speechiness  acousticness  \\\n",
       "0         0.566   0.664    4    -5.303     0       0.0464         0.634   \n",
       "1         0.768   0.820    7    -4.630     0       0.0474         0.179   \n",
       "2         0.558   0.559    6    -9.222     1       0.0959         0.371   \n",
       "\n",
       "   instrumentalness  liveness  valence    tempo  duration_ms  time_signature  \\\n",
       "0          0.000000     0.116    0.437  128.945       241688               4   \n",
       "1          0.000000     0.689    0.625  129.965       213293               4   \n",
       "2          0.000007     0.109    0.620   78.558       180387               4   \n",
       "\n",
       "             type                      id  \\\n",
       "0  audio_features  7dS5EaCoMnN7DzlpT6aRn2   \n",
       "1  audio_features  2V4bv1fNWfTcyRJKmej6Sj   \n",
       "2  audio_features  7KA4W4McWYRpgf0fWsJZWB   \n",
       "\n",
       "                                    uri  \\\n",
       "0  spotify:track:7dS5EaCoMnN7DzlpT6aRn2   \n",
       "1  spotify:track:2V4bv1fNWfTcyRJKmej6Sj   \n",
       "2  spotify:track:7KA4W4McWYRpgf0fWsJZWB   \n",
       "\n",
       "                                          track_href  \\\n",
       "0  https://api.spotify.com/v1/tracks/7dS5EaCoMnN7...   \n",
       "1  https://api.spotify.com/v1/tracks/2V4bv1fNWfTc...   \n",
       "2  https://api.spotify.com/v1/tracks/7KA4W4McWYRp...   \n",
       "\n",
       "                                        analysis_url  cluster  \n",
       "0  https://api.spotify.com/v1/audio-analysis/7dS5...        8  \n",
       "1  https://api.spotify.com/v1/audio-analysis/2V4b...        2  \n",
       "2  https://api.spotify.com/v1/audio-analysis/7KA4...        3  "
      ]
     },
     "execution_count": 63,
     "metadata": {},
     "output_type": "execute_result"
    }
   ],
   "source": [
    "#adding cluster to the data \n",
    "X_final[\"cluster\"] = clusters\n",
    "X_final.head(3)\n",
    "\n",
    "#saving it to a csv\n",
    "#X_final.to_csv(\"X_final.csv\", index = False)"
   ]
  },
  {
   "cell_type": "markdown",
   "id": "5fcbe88d",
   "metadata": {},
   "source": [
    "------"
   ]
  },
  {
   "cell_type": "markdown",
   "id": "a6a8fc82",
   "metadata": {},
   "source": [
    "# Final functions for product"
   ]
  },
  {
   "cell_type": "code",
   "execution_count": 64,
   "id": "0272d96c",
   "metadata": {},
   "outputs": [],
   "source": [
    "#avoid typos  with difflib and by converting input into lower cases\n",
    "def find_it(w):\n",
    "    w = w.lower()\n",
    "    return difflib.get_close_matches(w, Top100.Title.astype(str), n=3, cutoff=.7)\n",
    "\n",
    "def find_it_decade(w):\n",
    "    w = w.lower()\n",
    "    return difflib.get_close_matches(w, Top100Decade.Title.astype(str), n=3, cutoff=.7)\n",
    "\n",
    "def find_it_rock(w):\n",
    "    w = w.lower()\n",
    "    return difflib.get_close_matches(w, Top1000Rock.Title.astype(str), n=3, cutoff=.7)\n"
   ]
  },
  {
   "cell_type": "code",
   "execution_count": 65,
   "id": "95710829",
   "metadata": {},
   "outputs": [],
   "source": [
    "def get_artists_from_id(id_):\n",
    "    artists = sp.track(id_)['artists']\n",
    "    artists_lst = [a['name'] for a in artists]\n",
    "    return \", \".join(artists_lst)"
   ]
  },
  {
   "cell_type": "code",
   "execution_count": 66,
   "id": "edbd5dfe",
   "metadata": {},
   "outputs": [],
   "source": [
    "class color:\n",
    "   BOLD = '\\033[1m'\n",
    "   END = '\\033[0m'"
   ]
  },
  {
   "cell_type": "code",
   "execution_count": 76,
   "id": "2bb5ef1a",
   "metadata": {},
   "outputs": [],
   "source": [
    "def pick_song():\n",
    "    warnings.filterwarnings('ignore') #do not display any warnings\n",
    "    choose_song = input(\"\\nEnter a \" +color.BOLD+ \" song \" + color.END + \" based on which you would like to receive a recommendation.\\n\\n\")\n",
    "    df = input(\"\\nIn which charts do you want to search for a song? \\nInput\" +color.BOLD+ \" 1 \" + color.END + \"for latest charts, \" +color.BOLD+ \" 2 \" + color.END + \" for decade-end charts and \" +color.BOLD+ \" 3 \" + color.END + \" for the Top 1,000 Classic Rock Songs:\\n\\n\")\n",
    "    #if a song is entered:       \n",
    "    if df == \"1\":\n",
    "        df = \"Top100\"\n",
    "        choose_song1 = find_it(choose_song) #using difflib to detect typos\n",
    "        choose_song1 = \"\".join(choose_song1) #convert list into string\n",
    "        check = Top100.isin([choose_song1]).any().any()\n",
    "    elif df == \"2\":\n",
    "        df = \"Top100 decade-end\"\n",
    "        choose_song1 = find_it_decade(choose_song) #using difflib to detect typos\n",
    "        choose_song1 = \"\".join(choose_song1) #convert list into string\n",
    "        check = Top100Decade.isin([choose_song1]).any().any()\n",
    "    elif df == \"3\":\n",
    "        df = \"Top1000 Rock\"\n",
    "        choose_song1 = find_it_rock(choose_song) #using difflib to detect typos\n",
    "        choose_song1 = \"\".join(choose_song1) #convert list into string\n",
    "        check = Top1000Rock.isin([choose_song1]).any().any()\n",
    "    else:\n",
    "        print(\"\\nYour input to select the charts was not correct.\")\n",
    "        return pick_song()\n",
    "        \n",
    "     \n",
    "\n",
    "    if check :\n",
    "        print(\"\\nThe most similar song to your input in those charts is:\", choose_song1)\n",
    "        double_check = input(\"\\nIs that the song you meant? Type y for yes and n for no:\\n\\n\")\n",
    "        if double_check == \"y\":\n",
    "            print(\"\\nThe song\", choose_song1, \"is in the\", df, \"charts. You might also like this song:\\n\\n\")\n",
    "            #now give a random reccommendations from the selectedcharts\n",
    "            if df == \"Top100\":\n",
    "                print(Top100.query('(Title != \"choose_song1\")').sample())\n",
    "            if df == \"Top100 decade-end\":\n",
    "                print(Top100Decade.query('(Title != \"choose_song1\")').sample())   \n",
    "            if df == \"Top1000 Rock\":\n",
    "                print(Top1000Rock.query('(Title != \"choose_song1\")').sample())   \n",
    "        elif double_check == \"n\":\n",
    "                print(\"\\nNo worries, you can try it with another spelling or another song!\")\n",
    "                return pick_song() #or maybe to spotify step?\n",
    "        else:\n",
    "                print(\"\\nYour input was not correct.\")\n",
    "                return pick_song()\n",
    "              \n",
    "                           \n",
    "    else :\n",
    "        print(\"\\nThe song is unfortunately not in the\", df,\".\\n\")\n",
    "        #global df\n",
    "        sp = spotipy.Spotify(auth_manager=SpotifyClientCredentials(client_id= config.client_id,\n",
    "                                                               client_secret= config.client_secret))\n",
    "        # getting from input the audio feature of that song\n",
    "        #q = input(\"Please enter your song again: \")\n",
    "        song = sp.search(choose_song, limit=1) \n",
    "        my_dict = sp.audio_features(song[\"tracks\"][\"items\"][0][\"uri\"])[0]\n",
    "        my_dict_new = { key: [my_dict[key]] for key in list(my_dict.keys()) }\n",
    "        my_dict_new=pd.DataFrame(my_dict_new)\n",
    "    \n",
    "\n",
    "        # check if it is in th df\n",
    "        #tb done at a later point\n",
    "\n",
    "        #retrieving just the numerical the input_features\n",
    "        new = my_dict_new.select_dtypes(include=np.number)\n",
    "        \n",
    "        #scaling the audio_feature with the standardScaler\n",
    "        #scaler.fit_transform(X[:, np.newaxis])\n",
    "        #X_transformed = scaler.transform(X.T)\n",
    "        scaler2 = StandardScaler()\n",
    "        scaler2.fit(new) #z score \n",
    "        new_scaled = scaler2.transform(new) #gives an array\n",
    "        new_scaled_df = pd.DataFrame(new_scaled, columns = new.columns) #transform it to a df\n",
    "        \n",
    "\n",
    "        #predict cluster for input\n",
    "        predictions =kmeans.predict(new_scaled_df)\n",
    "        cluster_p = predictions[0]\n",
    "\n",
    "        #add cluster to input df\n",
    "        new_scaled_df[\"cluster\"] = cluster_p\n",
    "        #return new_scaled_df\n",
    "        \n",
    "\n",
    "        song_to_recommend = X_final[X_final.cluster == new_scaled_df].sample(n=1)\n",
    "        index = song_to_recommend.index[0]\n",
    "        \n",
    "\n",
    "        final_id = X_final.iloc[index]['id']\n",
    "        print(\"But you might like this artist:\", get_artists_from_id(final_id),\"\\n\")\n",
    "        print(\"Check out this song from the artist:\",\"https://open.spotify.com/track/\"+final_id)\n",
    "      \n",
    "\n",
    "\n",
    "        "
   ]
  },
  {
   "cell_type": "code",
   "execution_count": 77,
   "id": "388f9424",
   "metadata": {},
   "outputs": [
    {
     "name": "stdout",
     "output_type": "stream",
     "text": [
      "\n",
      "Enter a  song  based on which you would like to receive a recommendation.\n",
      "\n",
      "test\n",
      "\n",
      "In which charts do you want to search for a song? \n",
      "Input 1 for latest charts,  2  for decade-end charts and  3  for the Top 1,000 Classic Rock Songs:\n",
      "\n",
      "3\n",
      "\n",
      "The song is unfortunately not in the Top1000 Rock .\n",
      "\n",
      "But you might like this artist: Big Tymers, R. Kelly \n",
      "\n",
      "Check out this song from the artist: https://open.spotify.com/track/2C4RRPsDsjghWolIaodRh4\n"
     ]
    }
   ],
   "source": [
    "pick_song()"
   ]
  },
  {
   "cell_type": "code",
   "execution_count": null,
   "id": "ad3c0606",
   "metadata": {},
   "outputs": [],
   "source": []
  }
 ],
 "metadata": {
  "kernelspec": {
   "display_name": "Python 3",
   "language": "python",
   "name": "python3"
  },
  "language_info": {
   "codemirror_mode": {
    "name": "ipython",
    "version": 3
   },
   "file_extension": ".py",
   "mimetype": "text/x-python",
   "name": "python",
   "nbconvert_exporter": "python",
   "pygments_lexer": "ipython3",
   "version": "3.9.6"
  }
 },
 "nbformat": 4,
 "nbformat_minor": 5
}
